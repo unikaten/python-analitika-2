{
 "cells": [
  {
   "cell_type": "markdown",
   "metadata": {},
   "source": [
    "# Del 3: Pandas - Data Cleaning napredno - Vaje"
   ]
  },
  {
   "cell_type": "code",
   "execution_count": null,
   "metadata": {},
   "outputs": [],
   "source": [
    "import pandas as pd\n",
    "import numpy as np"
   ]
  },
  {
   "cell_type": "markdown",
   "metadata": {},
   "source": [
    "Dataset podatki\n",
    "\n",
    "- **name**: Recipe name (string)\n",
    "- **id**: Original recipe ID\n",
    "- **contributor_id**: ID of the user who submitted this recipe\n",
    "- **submitted**: When this recipe was submitted to Food.com\n",
    "- **tags**: Food.com tags for a recipe\n",
    "- **nutrition**: Values in order (PDV except for calories): calories, total fat, sugar, sodium, protein, saturated fat, carbohydrates\n",
    "- **n_steps**: Number of recipe steps\n",
    "- **steps**: Recipe steps, in order\n",
    "- **description**: Recipe description\n",
    "- **ingredients**: Recipe ingredient names\n",
    "- **n_ingredients**: Number of ingredients in the recipe\n"
   ]
  },
  {
   "cell_type": "code",
   "execution_count": null,
   "metadata": {},
   "outputs": [],
   "source": [
    "recipes = pd.read_csv(\"data/recipes.csv\")"
   ]
  },
  {
   "cell_type": "code",
   "execution_count": null,
   "metadata": {},
   "outputs": [],
   "source": [
    "recipes.head(5)"
   ]
  },
  {
   "cell_type": "markdown",
   "metadata": {},
   "source": [
    "# Naloga 1\n",
    "\n",
    "Želimo narediti pizzo.\n",
    "Obdržati želimo vse vrstice, ki imajo v stolpcu `name` vrednost pizza."
   ]
  },
  {
   "cell_type": "code",
   "execution_count": null,
   "metadata": {},
   "outputs": [],
   "source": [
    "# Rešitev\n",
    "\n",
    "\n"
   ]
  },
  {
   "cell_type": "markdown",
   "metadata": {},
   "source": [
    "# Naloga 2\n",
    "\n",
    "Želimo napraviti pico, ki vsebuje jajca in salamo.\n",
    "Obdržati želimo vse vrstice, ki imajo v stolpcu `ingredients` vrednosti **egg** in **sausage**.\n",
    "\n",
    "(Naj vas izgled ne zmoti. Stvari zgledajo, kot da so tipa `list` vendar jih lahko smatramo kot `string`)"
   ]
  },
  {
   "cell_type": "code",
   "execution_count": null,
   "metadata": {},
   "outputs": [],
   "source": [
    "our_ingredients = [\"egg\", \"sausage\"]"
   ]
  },
  {
   "cell_type": "code",
   "execution_count": 1,
   "metadata": {},
   "outputs": [],
   "source": [
    "# Rešitev\n"
   ]
  },
  {
   "cell_type": "markdown",
   "metadata": {},
   "source": [
    "# Naloga 3\n",
    "\n",
    "Želimo le pizze, ki jih je mogoče napraviti v 45min ali manj.\n",
    "Želimo obdržati vrstice, ki v stolpcu `tags` vsebujejo **45-minutes-or-less** ali katerokoli manjšo številčno vrednost."
   ]
  },
  {
   "cell_type": "code",
   "execution_count": null,
   "metadata": {},
   "outputs": [],
   "source": [
    "\n"
   ]
  },
  {
   "cell_type": "markdown",
   "metadata": {},
   "source": [
    "# Naloga 4\n",
    "\n",
    "Sedaj nas zanima na koliko stopinj moramo razgreti pečico.\n",
    "Dodati želimo stolpec **preheating** v katerega shranimo na koliko stopinj je potrebno segreti pečico. Ta podatek najdemo v stolpcu `steps`.\n",
    "(Če vrednosti ni, lahko pustimo NaN)."
   ]
  },
  {
   "cell_type": "code",
   "execution_count": null,
   "metadata": {},
   "outputs": [],
   "source": []
  },
  {
   "cell_type": "code",
   "execution_count": null,
   "metadata": {},
   "outputs": [],
   "source": []
  },
  {
   "cell_type": "code",
   "execution_count": null,
   "metadata": {},
   "outputs": [],
   "source": []
  },
  {
   "cell_type": "code",
   "execution_count": null,
   "metadata": {},
   "outputs": [],
   "source": []
  }
 ],
 "metadata": {
  "kernelspec": {
   "display_name": "Python 3",
   "language": "python",
   "name": "python3"
  },
  "language_info": {
   "codemirror_mode": {
    "name": "ipython",
    "version": 3
   },
   "file_extension": ".py",
   "mimetype": "text/x-python",
   "name": "python",
   "nbconvert_exporter": "python",
   "pygments_lexer": "ipython3",
   "version": "3.7.4"
  },
  "toc": {
   "base_numbering": 1,
   "nav_menu": {},
   "number_sections": true,
   "sideBar": true,
   "skip_h1_title": false,
   "title_cell": "Table of Contents",
   "title_sidebar": "Contents",
   "toc_cell": false,
   "toc_position": {},
   "toc_section_display": true,
   "toc_window_display": false
  }
 },
 "nbformat": 4,
 "nbformat_minor": 2
}
